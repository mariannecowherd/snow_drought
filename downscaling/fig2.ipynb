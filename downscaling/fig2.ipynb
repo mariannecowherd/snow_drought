{
 "cells": [
  {
   "cell_type": "code",
   "execution_count": 1,
   "id": "17717643-f102-4704-bedb-d30402b431af",
   "metadata": {},
   "outputs": [],
   "source": [
    "import datetime\n",
    "import os\n",
    "import glob\n",
    "import gc\n",
    "import pandas as pd\n",
    "import xarray as xr\n",
    "import numpy as np\n",
    "import geopandas as gpd\n",
    "\n",
    "import matplotlib as mpl\n",
    "import matplotlib.pyplot as plt \n",
    "from matplotlib import cm\n",
    "from matplotlib import colors\n",
    "\n",
    "plt.style.use('science.mplstyle')\n",
    "projectdir = '/glade/campaign/uwyo/wyom0112/berkeley/'"
   ]
  },
  {
   "cell_type": "code",
   "execution_count": 2,
   "id": "074d70e3-28d1-435f-8190-cf725e8fab41",
   "metadata": {},
   "outputs": [],
   "source": [
    "gcms = ['cesm2','mpi-esm1-2-lr','cnrm-esm2-1',\n",
    "        'ec-earth3-veg','fgoals-g3','ukesm1-0-ll',\n",
    "        'canesm5','access-cm2','ec-earth3']\n",
    "variants = ['r11i1p1f1','r7i1p1f1','r1i1p1f2',\n",
    "            'r1i1p1f1','r1i1p1f1','r2i1p1f2',\n",
    "            'r1i1p2f1','r5i1p1f1','r1i1p1f1',]\n",
    "\n",
    "calendar = ['365_day','proleptic_gregorian','proleptic_gregorian',\n",
    "            'proleptic_gregorian','365_day','360_day',\n",
    "             '365_day','proleptic_gregorian','proleptic_gregorian',]\n",
    "\n",
    "ssps = ['ssp370','ssp370','ssp370','ssp370',\n",
    "        'ssp370','ssp370','ssp370','ssp370',\n",
    "        'ssp370','ssp370','ssp370','ssp370',]\n",
    "\n",
    "savepath = '/glade/campaign/uwyo/wyom0112/berkeley/'\n",
    "dir_meta = \"/glade/campaign/uwyo/wyom0112/postprocess/meta/meta_new/\"\n",
    "domains = ['d01', 'd02', 'd03','d04']"
   ]
  },
  {
   "cell_type": "code",
   "execution_count": null,
   "id": "9810f63c-d7f2-499f-9ba9-d02b6d5a575e",
   "metadata": {},
   "outputs": [],
   "source": [
    "\n",
    "fig, ax = plt.subplots(2,2,figsize = (20,20))\n",
    "axs = ax.flatten()\n",
    "keys = list(allsnowmax_BC.keys())\n",
    "for i, domain in enumerate(domains):\n",
    "    color = clist[i][1]\n",
    "    myax = axs[i]\n",
    "    keys = snowmaxkeys[domain]\n",
    "    \n",
    "    for key in keys:\n",
    "        ts = allsnowmax_BC.sel(gcm = key)\n",
    "        myax.plot(years[1:], ts[1:], alpha = styles[domain], color = styles['BC'][1])\n",
    "        ts = allsnowmax_noBC.sel(gcm = key)\n",
    "        myax.plot(years[1:], ts[1:], alpha = styles[domain], color = styles['noBC'][1])\n",
    "    '''\n",
    "    trendline = lines_BC[domain] \n",
    "    myax.plot(x+1980, trendline, linestyle = styles['BC'][0], label = 'BC', linewidth = 3)\n",
    "    trendline = lines_noBC[domain]\n",
    "    myax.plot(x+1980, trendline, linestyle = styles['noBC'][0], label = 'noBC', linewidth = 3)\n",
    "    # myax.set_title(domain)\n",
    "    print(domain)\n",
    "    if i %2 == 0: myax.set_ylabel(r'SWE [mm]')\n",
    "    if i == 0: myax.legend(loc = 'lower left')\n",
    "    coords = coords_dict[domain]\n",
    "    inset_ax = inset_axes(myax, width=\"30%\",  height=\"30%\", loc=1, borderpad = 0.8, axes_kwargs=kwargs)\n",
    "    inset_ax.tick_params(bottom=False)\n",
    "    inset_ax.tick_params(left=False)\n",
    "        \n",
    "    inset_ax.plot(coords['XLONG'][0,:,0], coords['XLAT'][0,:,0], color =  color)\n",
    "    inset_ax.plot(coords['XLONG'][0,:,-1], coords['XLAT'][0,:,-1], color =  color)\n",
    "    inset_ax.plot(coords['XLONG'][0,0,:], coords['XLAT'][0,0,:], color = color)\n",
    "    inset_ax.plot(coords['XLONG'][0,-1,:], coords['XLAT'][0,-1,:], color = color)\n",
    "    \n",
    "    world.boundary.plot(ax=inset_ax, linewidth =1, color = 'gray')\n",
    "    inset_ax.set_xlim((-158,-83))\n",
    "    inset_ax.set_ylim((8,69))\n",
    "    '''\n",
    "plt.show()\n",
    "#fig.savefig('timeseries.jpg')"
   ]
  }
 ],
 "metadata": {
  "kernelspec": {
   "display_name": "fos",
   "language": "python",
   "name": "fos"
  },
  "language_info": {
   "codemirror_mode": {
    "name": "ipython",
    "version": 3
   },
   "file_extension": ".py",
   "mimetype": "text/x-python",
   "name": "python",
   "nbconvert_exporter": "python",
   "pygments_lexer": "ipython3",
   "version": "3.10.8"
  }
 },
 "nbformat": 4,
 "nbformat_minor": 5
}
