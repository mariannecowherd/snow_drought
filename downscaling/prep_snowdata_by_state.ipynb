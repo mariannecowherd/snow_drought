{
 "cells": [
  {
   "cell_type": "code",
   "execution_count": 1,
   "id": "bb431177-e16a-49e2-a282-e8be5fe4bd28",
   "metadata": {},
   "outputs": [],
   "source": [
    "# import packages\n",
    "import gc\n",
    "import glob\n",
    "import cmcrameri.cm as ccm\n",
    "import matplotlib as mpl\n",
    "from matplotlib import colors\n",
    "import matplotlib.pyplot as plt\n",
    "import netCDF4 as nc\n",
    "import numpy as np\n",
    "import pandas as pd\n",
    "import xarray as xr\n",
    "import geopandas as gpd\n",
    "from params import savepath, homedir, allnames, datadir\n",
    "\n",
    "plt.style.use('science.mplstyle')\n",
    "\n",
    "states = gpd.read_file('../data/ne_110m_admin_1_states_provinces.shp')"
   ]
  },
  {
   "cell_type": "code",
   "execution_count": 2,
   "id": "125eab12-8a05-46e7-a222-862048c40654",
   "metadata": {},
   "outputs": [],
   "source": [
    "domains = ['d01', 'd02', 'd03', 'd04']\n",
    "coordsdict = {}\n",
    "for domain in domains:\n",
    "    coordsdict[domain] = xr.open_dataset(f'/glade/campaign/uwyo/wyom0112/postprocess/meta/meta_new/wrfinput_{domain}')"
   ]
  },
  {
   "cell_type": "code",
   "execution_count": 3,
   "id": "dd0dadeb-7027-4991-a7f2-3e0ddf4efba0",
   "metadata": {},
   "outputs": [],
   "source": [
    "params = {'vars': ['prec','t2','snow'],\n",
    "          'states' : ['CA', 'WY'],\n",
    "          'res': ['45','9','3']}\n",
    "res_domain = {'3': ['d03','d04'],\n",
    "               '9' :['d02'],\n",
    "               '45':['d01']}\n",
    "domain_state = {'d01':['CA','WY'],\n",
    "                'd02':['CA','WY'],\n",
    "                'd03':['CA'],\n",
    "                'd04':['WY'],}\n",
    "boundaries = {'d01':{'CA': [43,60,35,68],\n",
    "                     'WY': [68,81,43,63]},\n",
    "              'd02':{'CA': [44,125,87,251],\n",
    "                     'WY': [165,230,130,227]},\n",
    "              'd03':{'CA': [0,-1,0,-1]},\n",
    "              'd04':{'WY': [0,-1,0,-1]}}\n",
    "state_res_domain = {'CA': {'45':'d01',\n",
    "                            '9': 'd02',\n",
    "                            '3':'d03'},\n",
    "                     'WY': {'45':'d01',\n",
    "                            '9': 'd02',\n",
    "                            '3':'d04'},}\n",
    "\n",
    "gcm = 'ec-earth3-veg'\n",
    "bc = 'BC'"
   ]
  },
  {
   "cell_type": "code",
   "execution_count": 4,
   "id": "402cd32c-03f7-477f-8e42-eafa03563a26",
   "metadata": {},
   "outputs": [
    {
     "name": "stdout",
     "output_type": "stream",
     "text": [
      "CPU times: user 2min 45s, sys: 11min 7s, total: 13min 52s\n",
      "Wall time: 41min 14s\n"
     ]
    }
   ],
   "source": [
    "%%time\n",
    "\n",
    "## make the dictionary: \n",
    "alldata = {}\n",
    "for var in params['vars']: \n",
    "    alldata[var] = {}\n",
    "    for state in params['states']:\n",
    "        alldata[var][state] = {}\n",
    "        for res in params['res']:\n",
    "            alldata[var][state][res] = {}\n",
    "\n",
    "## fill raw data\n",
    "for var in params['vars']: \n",
    "    for state in params['states']:\n",
    "        for res in params['res']:\n",
    "            domain = state_res_domain[state][res]\n",
    "            alldata[var][state][res]['raw'] = xr.open_dataset(f'/glade/campaign/uwyo/wyom0112/berkeley/{var}_{gcm}_{domain}_{bc}.nc')\n",
    "            if var == 'snow':\n",
    "                alldata[var][state][res]['annual_max'] = alldata[var][state][res]['raw'].resample(time = '1AS').max()\n",
    "            elif var == 't2':\n",
    "                tmp = alldata[var][state][res]['raw'] - 273 ##  .resample(time = '1AS')\n",
    "                mask = tmp > 0\n",
    "                alldata[var][state][res]['annual_max'] = tmp.where(mask).resample(time = '1AS').sum()\n",
    "            else: \n",
    "                alldata[var][state][res]['annual_max'] = alldata[var][state][res]['raw'].resample(time = '1AS').sum()\n",
    "                \n",
    "\n",
    "            left, right, bottom, top = boundaries[domain][state]\n",
    "            alldata[var][state][res]['annual_max_state'] =  alldata[var][state][res]['annual_max'].sel(lat2d = slice(bottom, top),\n",
    "                                                                   lon2d = slice(left, right))"
   ]
  },
  {
   "cell_type": "code",
   "execution_count": 5,
   "id": "07ac5f98-b1e5-44ea-b418-5e73d5e2cf1a",
   "metadata": {},
   "outputs": [],
   "source": [
    "alldata_to_save = {}\n",
    "for var in params['vars']: \n",
    "    alldata_to_save[var] = {}\n",
    "    for state in params['states']:\n",
    "        alldata_to_save[var][state] = {}\n",
    "        for res in params['res']:\n",
    "            alldata_to_save['annual_max_clipped'] = alldata[var][state][res]['annual_max_state']"
   ]
  },
  {
   "cell_type": "code",
   "execution_count": 6,
   "id": "338634b0-61ee-4724-a279-49abce2460a6",
   "metadata": {},
   "outputs": [],
   "source": [
    "np.save('/glade/campaign/uwyo/wyom0112/berkeley/annual_max_clipped.npy',alldata_to_save)"
   ]
  },
  {
   "cell_type": "code",
   "execution_count": 7,
   "id": "e7183a09-3b94-45e8-b888-17fe16097093",
   "metadata": {},
   "outputs": [
    {
     "name": "stdout",
     "output_type": "stream",
     "text": [
      "CPU times: user 1min 4s, sys: 8min 11s, total: 9min 15s\n",
      "Wall time: 46min 3s\n"
     ]
    }
   ],
   "source": [
    "%%time\n",
    "## partitioning:\n",
    "partition = {}\n",
    "for state in params['states']:\n",
    "    partition[state] = {}\n",
    "    for res in params['res']:\n",
    "        domain = state_res_domain[state][res]\n",
    "        temp = alldata['t2'][state][res]['raw'] \n",
    "        prec = alldata['prec'][state][res]['raw']\n",
    "        mask = temp['t2'] > 273.15\n",
    "        rainfall = prec.where(mask)\n",
    "        snowfall = prec.where(~mask)\n",
    "        partition[state][res] = {}\n",
    "        partition[state][res]['snowfall'] = snowfall\n",
    "        partition[state][res]['rainfall'] = rainfall\n",
    "        "
   ]
  },
  {
   "cell_type": "code",
   "execution_count": 8,
   "id": "43137d5a-9a0c-48b3-81a7-1a70a84d9775",
   "metadata": {},
   "outputs": [],
   "source": [
    "partition_annual = {}\n",
    "for state in params['states']:\n",
    "    partition_annual[state] = {}\n",
    "    for res in params['res']:\n",
    "        partition_annual[state][res] = {}\n",
    "        partition_annual[state][res]['snowfall'] = partition[state][res]['snowfall'].resample(time = '1AS').sum()\n",
    "        partition_annual[state][res]['rainfall'] = partition[state][res]['rainfall'].resample(time = '1AS').sum()"
   ]
  },
  {
   "cell_type": "code",
   "execution_count": 9,
   "id": "c5eed00d-42e7-48e1-ad19-e18de160d905",
   "metadata": {},
   "outputs": [],
   "source": [
    "np.save('/glade/campaign/uwyo/wyom0112/berkeley/partition_annual.npy',partition_annual)"
   ]
  },
  {
   "cell_type": "code",
   "execution_count": 10,
   "id": "da7b1be7-bf19-450c-9601-e92739add646",
   "metadata": {},
   "outputs": [],
   "source": [
    "coords_clipped = {}\n",
    "for state in params['states']:\n",
    "    coords_clipped[state] = {}\n",
    "    for res in params['res']:\n",
    "        domain = state_res_domain[state][res]\n",
    "        left, right, bottom, top = boundaries[domain][state]\n",
    "        basecoords = coordsdict[state_res_domain[state][res]]\n",
    "        coords_clipped[state][res] =  basecoords.sel(south_north = slice(bottom, top),\n",
    "                                                               west_east = slice(left, right))"
   ]
  },
  {
   "cell_type": "code",
   "execution_count": 13,
   "id": "f5b4ca60-451a-4945-bb0b-7deb24076e5d",
   "metadata": {},
   "outputs": [],
   "source": [
    "np.save('/glade/campaign/uwyo/wyom0112/berkeley/coords_clipped.npy',coords_clipped)"
   ]
  },
  {
   "cell_type": "code",
   "execution_count": 11,
   "id": "6923c351-e5f4-447c-b799-118eb093772e",
   "metadata": {},
   "outputs": [],
   "source": [
    "snowmasks = {}\n",
    "for state in params['states']:\n",
    "    snowmasks[state] = {}\n",
    "    for res in params['res']:\n",
    "        snowdata = alldata['snow'][state][res]['annual_max_state']['snow']\n",
    "        mask = np.nansum(snowdata[0:20], axis = 0) > 400\n",
    "        snowmasks[state][res] = mask"
   ]
  },
  {
   "cell_type": "code",
   "execution_count": 12,
   "id": "58323e60-fb28-4d8f-82a3-e1c706377c33",
   "metadata": {},
   "outputs": [],
   "source": [
    "np.save('/glade/campaign/uwyo/wyom0112/berkeley/snowmasks.npy',snowmasks)"
   ]
  }
 ],
 "metadata": {
  "kernelspec": {
   "display_name": "fos",
   "language": "python",
   "name": "fos"
  },
  "language_info": {
   "codemirror_mode": {
    "name": "ipython",
    "version": 3
   },
   "file_extension": ".py",
   "mimetype": "text/x-python",
   "name": "python",
   "nbconvert_exporter": "python",
   "pygments_lexer": "ipython3",
   "version": "3.10.8"
  }
 },
 "nbformat": 4,
 "nbformat_minor": 5
}
