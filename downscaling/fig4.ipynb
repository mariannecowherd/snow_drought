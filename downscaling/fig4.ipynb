{
 "cells": [
  {
   "cell_type": "code",
   "execution_count": 1,
   "id": "52df776a-1c64-4041-b200-a01d6ace4b0b",
   "metadata": {},
   "outputs": [],
   "source": [
    "## from stefans\n",
    "# import packages\n",
    "import gc\n",
    "import glob\n",
    "import cmcrameri.cm as ccm\n",
    "import matplotlib as mpl\n",
    "from matplotlib import colors\n",
    "import matplotlib.pyplot as plt\n",
    "import netCDF4 as nc\n",
    "import numpy as np\n",
    "import pandas as pd\n",
    "import xarray as xr\n",
    "import geopandas as gpd\n",
    "import os\n",
    "import matplotlib\n",
    "import pylab as P\n",
    "\n",
    "from params import savepath, homedir, allnames, datadir\n",
    "import cartopy.crs as crs\n",
    "import cartopy.feature as cfeature\n",
    "from cartopy.mpl.ticker import LongitudeFormatter, LatitudeFormatter\n",
    "from matplotlib.colors import ListedColormap, LinearSegmentedColormap\n",
    "plt.style.use('science.mplstyle')\n",
    "\n",
    "states = gpd.read_file('../data/ne_110m_admin_1_states_provinces.shp')"
   ]
  },
  {
   "cell_type": "code",
   "execution_count": 2,
   "id": "5af7af23-fe7b-46bf-b3a5-56b6a1acaf06",
   "metadata": {},
   "outputs": [],
   "source": [
    "\n",
    "gcms_dict = {'d01': ['cesm2','mpi-esm1-2-lr','cnrm-esm2-1',\n",
    "                     'ec-earth3-veg','fgoals-g3','ukesm1-0-ll',\n",
    "                     'canesm5','access-cm2','ec-earth3'],\n",
    "             'd02': ['cesm2','mpi-esm1-2-lr','cnrm-esm2-1',\n",
    "                     'ec-earth3-veg','fgoals-g3','ukesm1-0-ll',\n",
    "                     'canesm5','access-cm2','ec-earth3'],\n",
    "             'd03': ['ec-earth3-veg'],\n",
    "             'd04': ['ec-earth3-veg'],}\n",
    "\n",
    "variants_dict = {'d01': ['r11i1p1f1','r7i1p1f1','r1i1p1f2',\n",
    "                         'r1i1p1f1','r1i1p1f1','r2i1p1f2',\n",
    "                         'r1i1p2f1','r5i1p1f1','r1i1p1f1',],\n",
    "                 'd02': ['r11i1p1f1','r7i1p1f1','r1i1p1f2',\n",
    "                         'r1i1p1f1','r1i1p1f1','r2i1p1f2',\n",
    "                         'r1i1p2f1','r5i1p1f1','r1i1p1f1',],\n",
    "                 'd03': ['r1i1p1f1'],\n",
    "                 'd04': ['r1i1p1f1'],}\n",
    "\n",
    "calendars_dict = {'d01': ['365_day','proleptic_gregorian','proleptic_gregorian',\n",
    "                         'proleptic_gregorian','365_day','360_day',\n",
    "                         '365_day','proleptic_gregorian','proleptic_gregorian',],\n",
    "                 'd02': ['365_day','proleptic_gregorian','proleptic_gregorian',\n",
    "                         'proleptic_gregorian','365_day','360_day',\n",
    "                         '365_day','proleptic_gregorian','proleptic_gregorian',],\n",
    "                 'd03': ['proleptic_gregorian'],\n",
    "                 'd04': ['proleptic_gregorian'],}\n",
    "\n",
    "ssps_dict = {'d01': ['ssp370','ssp370','ssp370','ssp370',\n",
    "                     'ssp370','ssp370','ssp370','ssp370',\n",
    "                     'ssp370',],\n",
    "             'd02': ['ssp370','ssp370','ssp370','ssp370',\n",
    "                     'ssp370','ssp370','ssp370','ssp370',\n",
    "                     'ssp370',],\n",
    "             'd03': ['ssp370'],\n",
    "             'd04': ['ssp370'],}\n",
    "\n",
    "\n",
    "source_ids = {'access-cm2':'ACCESS-CM2', \n",
    "             'cesm2':'CESM2',\n",
    "             'cnrm-esm2-1':'CNRM-ESM2-1', \n",
    "             'canesm5':'CanESM5',\n",
    "             'ec-earth3':'EC-Earth3',\n",
    "             'ec-earth3-veg': 'EC-Earth3-Veg',\n",
    "             'fgoals-g3':'FGOALS-g3', \n",
    "             'mpi-esm1-2-lr':'MPI-ESM1-2-LR',\n",
    "             'ukesm1-0-ll':'UKESM1-0-LL'}\n",
    "\n",
    "date_start_hist, date_end_hist = \"1980-09-01\", \"2014-08-31\"\n",
    "date_start_ssp, date_end_ssp = \"2014-09-01\", \"2100-08-31\"\n",
    "dir_meta = '/glade/campaign/uwyo/wyom0112/postprocess/meta/meta_new/'\n"
   ]
  },
  {
   "cell_type": "code",
   "execution_count": 3,
   "id": "5d7f08f1-70b5-4765-8e10-1505b946570b",
   "metadata": {},
   "outputs": [
    {
     "name": "stderr",
     "output_type": "stream",
     "text": [
      "/glade/scratch/mcowherd/ipykernel_295624/2899011245.py:5: FutureWarning: The default value of numeric_only in DataFrameGroupBy.mean is deprecated. In a future version, numeric_only will default to False. Either specify numeric_only or select only columns which should be valid for the function.\n",
      "  tas_ts = tas_ts.groupby(['year', 'source_id']).mean()\n"
     ]
    }
   ],
   "source": [
    "tas_ts = pd.read_csv('wrfrun_globalavg_temp.csv', index_col = 0, parse_dates = True)\n",
    "mask = (tas_ts['year'] >= 1980) & (tas_ts['year'] <= 2000)\n",
    "baseline = tas_ts[mask].groupby('year').mean(numeric_only = True).mean().values[0]\n",
    "tas_ts['d_tas'] = tas_ts['tas'] - baseline\n",
    "tas_ts = tas_ts.groupby(['year', 'source_id']).mean()\n",
    "tas_ds = xr.Dataset.from_dataframe(tas_ts[['d_tas']])"
   ]
  },
  {
   "cell_type": "code",
   "execution_count": null,
   "id": "164c7e02-e519-4713-bda9-a4d9530253d2",
   "metadata": {},
   "outputs": [],
   "source": []
  }
 ],
 "metadata": {
  "kernelspec": {
   "display_name": "fos",
   "language": "python",
   "name": "fos"
  },
  "language_info": {
   "codemirror_mode": {
    "name": "ipython",
    "version": 3
   },
   "file_extension": ".py",
   "mimetype": "text/x-python",
   "name": "python",
   "nbconvert_exporter": "python",
   "pygments_lexer": "ipython3",
   "version": "3.10.8"
  }
 },
 "nbformat": 4,
 "nbformat_minor": 5
}
