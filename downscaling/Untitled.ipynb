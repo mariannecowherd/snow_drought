{
 "cells": [
  {
   "cell_type": "code",
   "execution_count": null,
   "id": "acda9c75-1a37-4726-a433-9ef7c5390e98",
   "metadata": {},
   "outputs": [],
   "source": []
  }
 ],
 "metadata": {
  "kernelspec": {
   "display_name": "e3smeval",
   "language": "python",
   "name": "e3smeval"
  },
  "language_info": {
   "codemirror_mode": {
    "name": "ipython",
    "version": 3
   },
   "file_extension": ".py",
   "mimetype": "text/x-python",
   "name": "python",
   "nbconvert_exporter": "python",
   "pygments_lexer": "ipython3",
   "version": "3.10.6"
  }
 },
 "nbformat": 4,
 "nbformat_minor": 5
}
